{
 "cells": [
  {
   "cell_type": "markdown",
   "metadata": {},
   "source": [
    "# Analyse des Données Électorales\n",
    "## Collecte et Préparation des Données"
   ]
  },
  {
   "cell_type": "code",
   "execution_count": 18,
   "metadata": {},
   "outputs": [
    {
     "name": "stdout",
     "output_type": "stream",
     "text": [
      "hello\n"
     ]
    }
   ],
   "source": [
    "print(\"hello\")"
   ]
  },
  {
   "cell_type": "code",
   "execution_count": 19,
   "metadata": {},
   "outputs": [
    {
     "ename": "AttributeError",
     "evalue": "'DataCollector' object has no attribute 'get_all_datasets'",
     "output_type": "error",
     "traceback": [
      "\u001b[31m---------------------------------------------------------------------------\u001b[39m",
      "\u001b[31mAttributeError\u001b[39m                            Traceback (most recent call last)",
      "\u001b[36mCell\u001b[39m\u001b[36m \u001b[39m\u001b[32mIn[19]\u001b[39m\u001b[32m, line 13\u001b[39m\n\u001b[32m      7\u001b[39m urls_sources = [\n\u001b[32m      8\u001b[39m     \u001b[33m\"\u001b[39m\u001b[33mhttps://www.data.gouv.fr/fr/pages/donnees-emploi/\u001b[39m\u001b[33m\"\u001b[39m,\n\u001b[32m      9\u001b[39m     \u001b[33m\"\u001b[39m\u001b[33mhttps://www.data.gouv.fr/fr/pages/donnees-elections/\u001b[39m\u001b[33m\"\u001b[39m,\n\u001b[32m     10\u001b[39m     \u001b[33m\"\u001b[39m\u001b[33mhttps://www.data.gouv.fr/fr/pages/donnees-securite/\u001b[39m\u001b[33m\"\u001b[39m\n\u001b[32m     11\u001b[39m ]\n\u001b[32m     12\u001b[39m \u001b[38;5;66;03m# Récupération des datasets\u001b[39;00m\n\u001b[32m---> \u001b[39m\u001b[32m13\u001b[39m \u001b[43mcollector\u001b[49m\u001b[43m.\u001b[49m\u001b[43mget_all_datasets\u001b[49m(urls_sources)\n",
      "\u001b[31mAttributeError\u001b[39m: 'DataCollector' object has no attribute 'get_all_datasets'"
     ]
    }
   ],
   "source": [
    "from src.etl.data_collector import DataCollector\n",
    "\n",
    "# Initialisation du collecteur de données\n",
    "collector = DataCollector()\n",
    "\n",
    "# Liste des URLs à scraper\n",
    "urls_sources = [\n",
    "    \"https://www.data.gouv.fr/fr/pages/donnees-emploi/\",\n",
    "    \"https://www.data.gouv.fr/fr/pages/donnees-elections/\",\n",
    "    \"https://www.data.gouv.fr/fr/pages/donnees-securite/\"\n",
    "]\n",
    "# Récupération des datasets\n",
    "collector.get_all_datasets(urls_sources)"
   ]
  }
 ],
 "metadata": {
  "kernelspec": {
   "display_name": ".venv",
   "language": "python",
   "name": "python3"
  },
  "language_info": {
   "codemirror_mode": {
    "name": "ipython",
    "version": 3
   },
   "file_extension": ".py",
   "mimetype": "text/x-python",
   "name": "python",
   "nbconvert_exporter": "python",
   "pygments_lexer": "ipython3",
   "version": "3.13.1"
  }
 },
 "nbformat": 4,
 "nbformat_minor": 2
}
