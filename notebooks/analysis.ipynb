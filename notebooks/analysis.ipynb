{
 "cells": [
  {
   "cell_type": "markdown",
   "metadata": {},
   "source": [
    "# Analyse des Données Électorales\n",
    "## Collecte et Préparation des Données"
   ]
  },
  {
   "cell_type": "code",
   "execution_count": null,
   "metadata": {},
   "outputs": [],
   "source": [
    "print(\"hello\")"
   ]
  },
  {
   "cell_type": "code",
   "execution_count": null,
   "metadata": {},
   "outputs": [],
   "source": [
    "import sys\n",
    "import os\n",
    "sys.path.append(os.path.abspath(os.path.join(os.getcwd(), '..')))"
   ]
  },
  {
   "cell_type": "code",
   "execution_count": 5,
   "metadata": {},
   "outputs": [
    {
     "name": "stdout",
     "output_type": "stream",
     "text": [
      "0 datasets trouvés pour https://www.data.gouv.fr/fr/pages/donnees-emploi/\n",
      "0 datasets trouvés pour https://www.data.gouv.fr/fr/pages/donnees-elections/\n",
      "25 datasets trouvés pour https://www.data.gouv.fr/fr/pages/donnees-securite/\n",
      "Téléchargement de donnee-dep-data.gouv-2024-geographie2024-produit-le2025-03-14.csv depuis https://static.data.gouv.fr/resources/bases-statistiques-communale-departementale-et-regionale-de-la-delinquance-enregistree-par-la-police-et-la-gendarmerie-nationales/20250327-120914/donnee-dep-data.gouv-2024-geographie2024-produit-le2025-03-14.csv...\n",
      "Téléchargé : donnee-dep-data.gouv-2024-geographie2024-produit-le2025-03-14.csv\n",
      "Téléchargement de donnee-reg-data.gouv-2024-geographie2024-produit-le2025-03-14.csv depuis https://static.data.gouv.fr/resources/bases-statistiques-communale-departementale-et-regionale-de-la-delinquance-enregistree-par-la-police-et-la-gendarmerie-nationales/20250327-120420/donnee-reg-data.gouv-2024-geographie2024-produit-le2025-03-14.csv...\n",
      "Téléchargé : donnee-reg-data.gouv-2024-geographie2024-produit-le2025-03-14.csv\n",
      "Téléchargement de info-complements-data.gouv-2024-geographie2024-produit-le2025-03-14.xlsx depuis https://static.data.gouv.fr/resources/bases-statistiques-communale-departementale-et-regionale-de-la-delinquance-enregistree-par-la-police-et-la-gendarmerie-nationales/20250327-093832/info-complements-data.gouv-2024-geographie2024-produit-le2025-03-14.xlsx...\n",
      "Téléchargé : info-complements-data.gouv-2024-geographie2024-produit-le2025-03-14.xlsx\n",
      "Téléchargement de donnee-dep-data.gouv-2024-geographie2024-produit-le2025-01-26.csv depuis https://static.data.gouv.fr/resources/bases-statistiques-communale-departementale-et-regionale-de-la-delinquance-enregistree-par-la-police-et-la-gendarmerie-nationales/20250130-155955/donnee-dep-data.gouv-2024-geographie2024-produit-le2025-01-26.csv...\n",
      "Téléchargé : donnee-dep-data.gouv-2024-geographie2024-produit-le2025-01-26.csv\n",
      "Téléchargement de donnee-reg-data.gouv-2024-geographie2024-produit-le2025-01-26.csv depuis https://static.data.gouv.fr/resources/bases-statistiques-communale-departementale-et-regionale-de-la-delinquance-enregistree-par-la-police-et-la-gendarmerie-nationales/20250130-155841/donnee-reg-data.gouv-2024-geographie2024-produit-le2025-01-26.csv...\n",
      "Téléchargé : donnee-reg-data.gouv-2024-geographie2024-produit-le2025-01-26.csv\n"
     ]
    },
    {
     "ename": "KeyboardInterrupt",
     "evalue": "",
     "output_type": "error",
     "traceback": [
      "\u001b[31m---------------------------------------------------------------------------\u001b[39m",
      "\u001b[31mKeyboardInterrupt\u001b[39m                         Traceback (most recent call last)",
      "\u001b[36mCell\u001b[39m\u001b[36m \u001b[39m\u001b[32mIn[5]\u001b[39m\u001b[32m, line 11\u001b[39m\n\u001b[32m      4\u001b[39m collector = DataCollector()\n\u001b[32m      5\u001b[39m urls = [\n\u001b[32m      6\u001b[39m     \u001b[33m\"\u001b[39m\u001b[33mhttps://www.data.gouv.fr/fr/pages/donnees-emploi/\u001b[39m\u001b[33m\"\u001b[39m,\n\u001b[32m      7\u001b[39m     \u001b[33m\"\u001b[39m\u001b[33mhttps://www.data.gouv.fr/fr/pages/donnees-elections/\u001b[39m\u001b[33m\"\u001b[39m,\n\u001b[32m      8\u001b[39m     \u001b[33m\"\u001b[39m\u001b[33mhttps://www.data.gouv.fr/fr/pages/donnees-securite/\u001b[39m\u001b[33m\"\u001b[39m\n\u001b[32m      9\u001b[39m     \u001b[38;5;66;03m# Ajoutez d'autres URLs sources ici\u001b[39;00m\n\u001b[32m     10\u001b[39m ]\n\u001b[32m---> \u001b[39m\u001b[32m11\u001b[39m \u001b[43mcollector\u001b[49m\u001b[43m.\u001b[49m\u001b[43mcollect_all_data\u001b[49m\u001b[43m(\u001b[49m\u001b[43murls\u001b[49m\u001b[43m)\u001b[49m\n",
      "\u001b[36mFile \u001b[39m\u001b[32m~/Documents/Lab/_EPSI_cours/M1/MSPR/MSPR_01/MSPR1_datalake/src/etl/data_collector.py:92\u001b[39m, in \u001b[36mDataCollector.collect_all_data\u001b[39m\u001b[34m(self, urls)\u001b[39m\n\u001b[32m     89\u001b[39m \u001b[38;5;28mprint\u001b[39m(\u001b[33mf\u001b[39m\u001b[33m\"\u001b[39m\u001b[38;5;132;01m{\u001b[39;00m\u001b[38;5;28mlen\u001b[39m(datasets)\u001b[38;5;132;01m}\u001b[39;00m\u001b[33m datasets trouvés pour \u001b[39m\u001b[38;5;132;01m{\u001b[39;00murl\u001b[38;5;132;01m}\u001b[39;00m\u001b[33m\"\u001b[39m)\n\u001b[32m     91\u001b[39m \u001b[38;5;28;01mfor\u001b[39;00m dataset \u001b[38;5;129;01min\u001b[39;00m datasets:\n\u001b[32m---> \u001b[39m\u001b[32m92\u001b[39m     \u001b[38;5;28;43mself\u001b[39;49m\u001b[43m.\u001b[49m\u001b[43mdownload_dataset_files\u001b[49m\u001b[43m(\u001b[49m\u001b[43mdataset\u001b[49m\u001b[43m)\u001b[49m\n\u001b[32m     93\u001b[39m     time.sleep(\u001b[32m2\u001b[39m)\n",
      "\u001b[36mFile \u001b[39m\u001b[32m~/Documents/Lab/_EPSI_cours/M1/MSPR/MSPR_01/MSPR1_datalake/src/etl/data_collector.py:53\u001b[39m, in \u001b[36mDataCollector.download_dataset_files\u001b[39m\u001b[34m(self, dataset_url)\u001b[39m\n\u001b[32m     51\u001b[39m     \u001b[38;5;28;01mfor\u001b[39;00m file_link \u001b[38;5;129;01min\u001b[39;00m file_links:\n\u001b[32m     52\u001b[39m         \u001b[38;5;28mself\u001b[39m._download_file(file_link)\n\u001b[32m---> \u001b[39m\u001b[32m53\u001b[39m         \u001b[43mtime\u001b[49m\u001b[43m.\u001b[49m\u001b[43msleep\u001b[49m\u001b[43m(\u001b[49m\u001b[32;43m2\u001b[39;49m\u001b[43m)\u001b[49m  \u001b[38;5;66;03m# Pause entre les téléchargements\u001b[39;00m\n\u001b[32m     55\u001b[39m \u001b[38;5;28;01mexcept\u001b[39;00m requests.RequestException \u001b[38;5;28;01mas\u001b[39;00m e:\n\u001b[32m     56\u001b[39m     \u001b[38;5;28mprint\u001b[39m(\u001b[33mf\u001b[39m\u001b[33m\"\u001b[39m\u001b[33mErreur lors de l\u001b[39m\u001b[33m'\u001b[39m\u001b[33maccès à \u001b[39m\u001b[38;5;132;01m{\u001b[39;00mdataset_url\u001b[38;5;132;01m}\u001b[39;00m\u001b[33m : \u001b[39m\u001b[38;5;132;01m{\u001b[39;00me\u001b[38;5;132;01m}\u001b[39;00m\u001b[33m\"\u001b[39m)\n",
      "\u001b[31mKeyboardInterrupt\u001b[39m: "
     ]
    }
   ],
   "source": [
    "from src.etl.data_collector import DataCollector\n",
    "\n",
    "# Initialisation du collecteur de données\n",
    "collector = DataCollector()\n",
    "urls = [\n",
    "    \"https://www.data.gouv.fr/fr/pages/donnees-emploi/\",\n",
    "    \"https://www.data.gouv.fr/fr/pages/donnees-elections/\",\n",
    "    \"https://www.data.gouv.fr/fr/pages/donnees-securite/\"\n",
    "    # Ajoutez d'autres URLs sources ici\n",
    "]\n",
    "collector.collect_all_data(urls)"
   ]
  }
 ],
 "metadata": {
  "kernelspec": {
   "display_name": ".venv",
   "language": "python",
   "name": "python3"
  },
  "language_info": {
   "codemirror_mode": {
    "name": "ipython",
    "version": 3
   },
   "file_extension": ".py",
   "mimetype": "text/x-python",
   "name": "python",
   "nbconvert_exporter": "python",
   "pygments_lexer": "ipython3",
   "version": "3.13.1"
  }
 },
 "nbformat": 4,
 "nbformat_minor": 2
}
